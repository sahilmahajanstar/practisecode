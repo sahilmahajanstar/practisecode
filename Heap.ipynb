{
 "cells": [
  {
   "cell_type": "markdown",
   "metadata": {},
   "source": [
    "# Heap Class\n"
   ]
  },
  {
   "cell_type": "code",
   "execution_count": 193,
   "metadata": {},
   "outputs": [],
   "source": [
    "import numpy as np\n",
    "class Heap:\n",
    "    def __init__(self,typeof):\n",
    "        self.array=None\n",
    "        self.length=0\n",
    "        if typeof==\"int\":\n",
    "            self.typeof=int\n",
    "        elif typeof==\"str\":\n",
    "            self.typeof=str\n",
    "        elif typeof==\"float\":\n",
    "            self.typeof=float\n",
    "        self.__getArray()\n",
    "        \n",
    "    def __getArray(self):\n",
    "        self.array=list(map(self.typeof,input(\"Enter array Element\").split()))\n",
    "        self.length=len(self.array)\n",
    "        \n",
    "    def __maxHeapify(self,n,i):\n",
    "        '''\n",
    "        private method can call inside by only in class method not by publically\n",
    "        n-length of array\n",
    "        i-make max heap at i th node\n",
    "        \n",
    "        '''\n",
    "        left=2*i+1\n",
    "        right=2*i+2\n",
    "        largest=i\n",
    "        if left<n and self.array[largest]<self.array[left]:\n",
    "            largest=left\n",
    "        if right<n and self.array[largest]<self.array[right]:\n",
    "            largest=right\n",
    "        if largest!=i:\n",
    "            self.array[largest],self.array[i]=self.array[i],self.array[largest]\n",
    "            self.__maxHeapify(n,largest)\n",
    "    \n",
    "    def __minHeapify(self,n,i):\n",
    "        '''\n",
    "        private method can call inside by only in class method not by publically\n",
    "        n-length of array\n",
    "        i-make min heap at i th node\n",
    "        \n",
    "        '''\n",
    "        \n",
    "        left=2*i+1\n",
    "        right=2*i+2\n",
    "        minimum=i\n",
    "        \n",
    "        if left<n and self.array[minimum]>self.array[left]:\n",
    "            minimum=left\n",
    "        if right<n and self.array[minimum]>self.array[right]:\n",
    "            minimum=right\n",
    "        if minimum!=i:\n",
    "            self.array[minimum],self.array[i]=self.array[i],self.array[minimum]\n",
    "            self.__minHeapify(n,minimum)\n",
    "        \n",
    "    def maxHeap(self):\n",
    "        for i in range((self.length//2)-1,-1,-1):\n",
    "            self.__maxHeapify(self.length,i)\n",
    "    \n",
    "    def minHeap(self):\n",
    "        for i in range((self.length//2)-1,-1,-1):\n",
    "            self.__minHeapify(self.length,i)\n",
    "    \n",
    "    def heapsort(self,reverse=False):\n",
    "        if not reverse:\n",
    "            self.maxHeap()\n",
    "            for i in range(self.length-1,-1,-1):\n",
    "                self.array[0],self.array[i]=self.array[i],self.array[0]\n",
    "                self.__maxHeapify(i,0)\n",
    "        else:\n",
    "            self.minHeap()\n",
    "            for i in range(self.length-1,-1,-1):\n",
    "                self.array[0],self.array[i]=self.array[i],self.array[0]\n",
    "                self.__minHeapify(i,0)\n",
    "    def printArray(self):\n",
    "        for num in self.array:\n",
    "            print(num,end=\" \")"
   ]
  },
  {
   "cell_type": "code",
   "execution_count": 200,
   "metadata": {},
   "outputs": [
    {
     "name": "stdout",
     "output_type": "stream",
     "text": [
      "Enter array Element13 437 86 2685 52 75 96\n"
     ]
    }
   ],
   "source": [
    "heap=Heap(\"int\")"
   ]
  },
  {
   "cell_type": "code",
   "execution_count": 201,
   "metadata": {},
   "outputs": [
    {
     "name": "stdout",
     "output_type": "stream",
     "text": [
      "2685 437 96 13 52 75 86 "
     ]
    }
   ],
   "source": [
    "heap.maxHeap()\n",
    "heap.printArray()"
   ]
  },
  {
   "cell_type": "code",
   "execution_count": 202,
   "metadata": {},
   "outputs": [
    {
     "name": "stdout",
     "output_type": "stream",
     "text": [
      "13 52 75 86 96 437 2685 "
     ]
    }
   ],
   "source": [
    "heap.heapsort()\n",
    "heap.printArray()"
   ]
  },
  {
   "cell_type": "code",
   "execution_count": 203,
   "metadata": {},
   "outputs": [
    {
     "name": "stdout",
     "output_type": "stream",
     "text": [
      "2685 437 96 86 75 52 13 "
     ]
    }
   ],
   "source": [
    "heap.heapsort(reverse=True)\n",
    "heap.printArray()"
   ]
  },
  {
   "cell_type": "code",
   "execution_count": 205,
   "metadata": {},
   "outputs": [
    {
     "name": "stdout",
     "output_type": "stream",
     "text": [
      "Enter array ElementABC ACB ADE A HCD DGJD HSJ\n",
      "HSJ HCD DGJD ADE ACB ABC A "
     ]
    }
   ],
   "source": [
    "heap=Heap(\"str\")\n",
    "heap.maxHeap()\n",
    "heap.heapsort(reverse=True) #reverse=True\n",
    "heap.printArray()"
   ]
  },
  {
   "cell_type": "code",
   "execution_count": 206,
   "metadata": {},
   "outputs": [
    {
     "name": "stdout",
     "output_type": "stream",
     "text": [
      "Enter array ElementABC ACB ADE A HCD DGJD HSJ\n",
      "A ABC ACB ADE DGJD HCD HSJ "
     ]
    }
   ],
   "source": [
    "heap=Heap(\"str\")\n",
    "heap.maxHeap()\n",
    "heap.heapsort() #reverse=False\n",
    "heap.printArray()"
   ]
  },
  {
   "cell_type": "code",
   "execution_count": 207,
   "metadata": {},
   "outputs": [
    {
     "name": "stdout",
     "output_type": "stream",
     "text": [
      "Enter array Element12.34 75.32 0.65 5467.43 43.65 375.32\n",
      "0.65 12.34 43.65 75.32 375.32 5467.43 "
     ]
    }
   ],
   "source": [
    "heap=Heap(\"float\")\n",
    "heap.maxHeap()\n",
    "heap.heapsort() #reverse=False\n",
    "heap.printArray()"
   ]
  },
  {
   "cell_type": "code",
   "execution_count": null,
   "metadata": {},
   "outputs": [],
   "source": []
  }
 ],
 "metadata": {
  "kernelspec": {
   "display_name": "Python 3",
   "language": "python",
   "name": "python3"
  },
  "language_info": {
   "codemirror_mode": {
    "name": "ipython",
    "version": 3
   },
   "file_extension": ".py",
   "mimetype": "text/x-python",
   "name": "python",
   "nbconvert_exporter": "python",
   "pygments_lexer": "ipython3",
   "version": "3.7.5"
  }
 },
 "nbformat": 4,
 "nbformat_minor": 2
}
